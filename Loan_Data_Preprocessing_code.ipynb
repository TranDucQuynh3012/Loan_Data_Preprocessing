{
 "cells": [
  {
   "cell_type": "code",
   "execution_count": 1,
   "id": "2dbbd9c1",
   "metadata": {},
   "outputs": [],
   "source": [
    "import numpy as np\n",
    "import pandas as pd\n",
    "np.set_printoptions(suppress = True, linewidth = 100, precision = 2)"
   ]
  },
  {
   "cell_type": "markdown",
   "id": "b004fe87",
   "metadata": {},
   "source": [
    "### 1. Import the Loan data"
   ]
  },
  {
   "cell_type": "code",
   "execution_count": 2,
   "id": "9f99c0bb",
   "metadata": {},
   "outputs": [],
   "source": [
    "data = np.genfromtxt('loan-data.csv', delimiter = ';')\n",
    "loan_raw = data.copy()"
   ]
  },
  {
   "cell_type": "code",
   "execution_count": 3,
   "id": "f4a358f1",
   "metadata": {
    "scrolled": true
   },
   "outputs": [
    {
     "data": {
      "text/plain": [
       "array([[        nan,         nan,         nan, ...,         nan,         nan,         nan],\n",
       "       [48010226.  ,         nan,    35000.  , ...,         nan,         nan,     9452.96],\n",
       "       [57693261.  ,         nan,    30000.  , ...,         nan,         nan,     4679.7 ],\n",
       "       ...,\n",
       "       [50415990.  ,         nan,    10000.  , ...,         nan,         nan,     2185.64],\n",
       "       [46154151.  ,         nan,         nan, ...,         nan,         nan,     3199.4 ],\n",
       "       [66055249.  ,         nan,    10000.  , ...,         nan,         nan,      301.9 ]])"
      ]
     },
     "execution_count": 3,
     "metadata": {},
     "output_type": "execute_result"
    }
   ],
   "source": [
    "loan_raw"
   ]
  },
  {
   "cell_type": "code",
   "execution_count": 4,
   "id": "26081d66",
   "metadata": {},
   "outputs": [
    {
     "data": {
      "text/plain": [
       "(10001, 14)"
      ]
     },
     "execution_count": 4,
     "metadata": {},
     "output_type": "execute_result"
    }
   ],
   "source": [
    "loan_raw.shape"
   ]
  },
  {
   "cell_type": "code",
   "execution_count": 5,
   "id": "ddf19b3d",
   "metadata": {},
   "outputs": [],
   "source": [
    "# Split loan_raw into header and data"
   ]
  },
  {
   "cell_type": "code",
   "execution_count": 6,
   "id": "1e343c26",
   "metadata": {},
   "outputs": [],
   "source": [
    "## Header is the first row of loan_raw:\n",
    "header = np.genfromtxt('loan-data.csv', delimiter = ';', skip_footer= 10000, dtype = 'str')"
   ]
  },
  {
   "cell_type": "code",
   "execution_count": 7,
   "id": "1c21b69c",
   "metadata": {},
   "outputs": [
    {
     "data": {
      "text/plain": [
       "array(['id', 'issue_d', 'loan_amnt', 'loan_status', 'funded_amnt', 'term', 'int_rate',\n",
       "       'installment', 'grade', 'sub_grade', 'verification_status', 'url', 'addr_state',\n",
       "       'total_pymnt'], dtype='<U19')"
      ]
     },
     "execution_count": 7,
     "metadata": {},
     "output_type": "execute_result"
    }
   ],
   "source": [
    "header"
   ]
  },
  {
   "cell_type": "code",
   "execution_count": 8,
   "id": "2d3d78b8",
   "metadata": {},
   "outputs": [],
   "source": [
    "## Data includes the remaining rows of loan_raw:\n",
    "data = np.genfromtxt('loan-data.csv', delimiter = ';', skip_header= 1)"
   ]
  },
  {
   "cell_type": "code",
   "execution_count": 9,
   "id": "13c85b2d",
   "metadata": {},
   "outputs": [
    {
     "data": {
      "text/plain": [
       "array([[48010226.  ,         nan,    35000.  , ...,         nan,         nan,     9452.96],\n",
       "       [57693261.  ,         nan,    30000.  , ...,         nan,         nan,     4679.7 ],\n",
       "       [59432726.  ,         nan,    15000.  , ...,         nan,         nan,     1969.83],\n",
       "       ...,\n",
       "       [50415990.  ,         nan,    10000.  , ...,         nan,         nan,     2185.64],\n",
       "       [46154151.  ,         nan,         nan, ...,         nan,         nan,     3199.4 ],\n",
       "       [66055249.  ,         nan,    10000.  , ...,         nan,         nan,      301.9 ]])"
      ]
     },
     "execution_count": 9,
     "metadata": {},
     "output_type": "execute_result"
    }
   ],
   "source": [
    "data"
   ]
  },
  {
   "cell_type": "markdown",
   "id": "9739068a",
   "metadata": {},
   "source": [
    "### 2. Create number-type data and string-type data"
   ]
  },
  {
   "cell_type": "code",
   "execution_count": 10,
   "id": "d36e5d8e",
   "metadata": {},
   "outputs": [
    {
     "data": {
      "text/plain": [
       "(10000, 14)"
      ]
     },
     "execution_count": 10,
     "metadata": {},
     "output_type": "execute_result"
    }
   ],
   "source": [
    "data.shape"
   ]
  },
  {
   "cell_type": "code",
   "execution_count": 11,
   "id": "8fca8138",
   "metadata": {
    "scrolled": true
   },
   "outputs": [
    {
     "name": "stderr",
     "output_type": "stream",
     "text": [
      "<ipython-input-11-18b161957216>:1: RuntimeWarning: Mean of empty slice\n",
      "  mean = np.nanmean(data, axis = 0)\n"
     ]
    },
    {
     "data": {
      "text/plain": [
       "array([54015809.19,         nan,    15273.46,         nan,    15311.04,         nan,       16.62,\n",
       "            440.92,         nan,         nan,         nan,         nan,         nan,     3143.85])"
      ]
     },
     "execution_count": 11,
     "metadata": {},
     "output_type": "execute_result"
    }
   ],
   "source": [
    "mean = np.nanmean(data, axis = 0)\n",
    "mean"
   ]
  },
  {
   "cell_type": "code",
   "execution_count": 12,
   "id": "8e7014db",
   "metadata": {},
   "outputs": [
    {
     "data": {
      "text/plain": [
       "array([ 1,  3,  5,  8,  9, 10, 11, 12], dtype=int64)"
      ]
     },
     "execution_count": 12,
     "metadata": {},
     "output_type": "execute_result"
    }
   ],
   "source": [
    "str_index = np.argwhere(np.isnan(mean) == True).squeeze()\n",
    "str_index"
   ]
  },
  {
   "cell_type": "code",
   "execution_count": 13,
   "id": "edbb6680",
   "metadata": {},
   "outputs": [
    {
     "data": {
      "text/plain": [
       "array([ 0,  2,  4,  6,  7, 13], dtype=int64)"
      ]
     },
     "execution_count": 13,
     "metadata": {},
     "output_type": "execute_result"
    }
   ],
   "source": [
    "num_index = np.argwhere(np.isnan(mean) == False).squeeze()\n",
    "num_index"
   ]
  },
  {
   "cell_type": "code",
   "execution_count": 14,
   "id": "84f5bb27",
   "metadata": {},
   "outputs": [
    {
     "data": {
      "text/plain": [
       "array(['issue_d', 'loan_status', 'term', 'grade', 'sub_grade', 'verification_status', 'url',\n",
       "       'addr_state'], dtype='<U19')"
      ]
     },
     "execution_count": 14,
     "metadata": {},
     "output_type": "execute_result"
    }
   ],
   "source": [
    "header_str = header[str_index]\n",
    "header_str"
   ]
  },
  {
   "cell_type": "code",
   "execution_count": 15,
   "id": "11618b2c",
   "metadata": {},
   "outputs": [
    {
     "data": {
      "text/plain": [
       "array(['id', 'loan_amnt', 'funded_amnt', 'int_rate', 'installment', 'total_pymnt'], dtype='<U19')"
      ]
     },
     "execution_count": 15,
     "metadata": {},
     "output_type": "execute_result"
    }
   ],
   "source": [
    "header_num = header[num_index]\n",
    "header_num"
   ]
  },
  {
   "cell_type": "code",
   "execution_count": 16,
   "id": "57f8716a",
   "metadata": {},
   "outputs": [
    {
     "data": {
      "text/plain": [
       "68616520.0"
      ]
     },
     "execution_count": 16,
     "metadata": {},
     "output_type": "execute_result"
    }
   ],
   "source": [
    "# Create temporary fill value to replace the NaN value in number data:\n",
    "temporary_fill = np.nanmax(data).round(2) + 1\n",
    "temporary_fill"
   ]
  },
  {
   "cell_type": "code",
   "execution_count": 17,
   "id": "4ca4107d",
   "metadata": {},
   "outputs": [],
   "source": [
    "data_num = np.genfromtxt('loan-data.csv', delimiter = ';',\n",
    "                                          skip_header= 1,\n",
    "                                          usecols= num_index,\n",
    "                                          filling_values= temporary_fill)"
   ]
  },
  {
   "cell_type": "code",
   "execution_count": 18,
   "id": "ceb6b936",
   "metadata": {},
   "outputs": [
    {
     "data": {
      "text/plain": [
       "array([[48010226.  ,    35000.  ,    35000.  ,       13.33,     1184.86,     9452.96],\n",
       "       [57693261.  ,    30000.  ,    30000.  , 68616520.  ,      938.57,     4679.7 ],\n",
       "       [59432726.  ,    15000.  ,    15000.  , 68616520.  ,      494.86,     1969.83],\n",
       "       ...,\n",
       "       [50415990.  ,    10000.  ,    10000.  , 68616520.  , 68616520.  ,     2185.64],\n",
       "       [46154151.  , 68616520.  ,    10000.  ,       16.55,      354.3 ,     3199.4 ],\n",
       "       [66055249.  ,    10000.  ,    10000.  , 68616520.  ,      309.97,      301.9 ]])"
      ]
     },
     "execution_count": 18,
     "metadata": {},
     "output_type": "execute_result"
    }
   ],
   "source": [
    "data_num"
   ]
  },
  {
   "cell_type": "code",
   "execution_count": 19,
   "id": "44cf2c4a",
   "metadata": {},
   "outputs": [
    {
     "data": {
      "text/plain": [
       "0"
      ]
     },
     "execution_count": 19,
     "metadata": {},
     "output_type": "execute_result"
    }
   ],
   "source": [
    "np.isnan(data_num).sum()\n",
    "# There is no Nan value left in number data."
   ]
  },
  {
   "cell_type": "code",
   "execution_count": 20,
   "id": "986c4984",
   "metadata": {},
   "outputs": [],
   "source": [
    "data_str = np.genfromtxt('loan-data.csv', delimiter = ';',\n",
    "                                          skip_header= 1,\n",
    "                                          usecols= str_index,\n",
    "                                          dtype = 'str')"
   ]
  },
  {
   "cell_type": "code",
   "execution_count": 21,
   "id": "c09a01f1",
   "metadata": {
    "scrolled": true
   },
   "outputs": [
    {
     "data": {
      "text/plain": [
       "array([['May-15', 'Current', ' 36 months', ..., 'Verified',\n",
       "        'https://www.lendingclub.com/browse/loanDetail.action?loan_id=48010226', 'CA'],\n",
       "       ['', 'Current', ' 36 months', ..., 'Source Verified',\n",
       "        'https://www.lendingclub.com/browse/loanDetail.action?loan_id=57693261', 'NY'],\n",
       "       ['Sep-15', 'Current', ' 36 months', ..., 'Verified',\n",
       "        'https://www.lendingclub.com/browse/loanDetail.action?loan_id=59432726', 'PA'],\n",
       "       ...,\n",
       "       ['Jun-15', 'Current', ' 36 months', ..., 'Source Verified',\n",
       "        'https://www.lendingclub.com/browse/loanDetail.action?loan_id=50415990', 'CA'],\n",
       "       ['Apr-15', 'Current', ' 36 months', ..., 'Source Verified',\n",
       "        'https://www.lendingclub.com/browse/loanDetail.action?loan_id=46154151', 'OH'],\n",
       "       ['Dec-15', 'Current', ' 36 months', ..., '',\n",
       "        'https://www.lendingclub.com/browse/loanDetail.action?loan_id=66055249', 'IL']],\n",
       "      dtype='<U69')"
      ]
     },
     "execution_count": 21,
     "metadata": {},
     "output_type": "execute_result"
    }
   ],
   "source": [
    "data_str"
   ]
  },
  {
   "cell_type": "markdown",
   "id": "94edd5f0",
   "metadata": {},
   "source": [
    "### 3. Clean the String Data"
   ]
  },
  {
   "cell_type": "markdown",
   "id": "80191749",
   "metadata": {},
   "source": [
    "####    3.1 Issue Date"
   ]
  },
  {
   "cell_type": "code",
   "execution_count": 22,
   "id": "c12a07ce",
   "metadata": {},
   "outputs": [
    {
     "data": {
      "text/plain": [
       "'issue_d'"
      ]
     },
     "execution_count": 22,
     "metadata": {},
     "output_type": "execute_result"
    }
   ],
   "source": [
    "header_str[0]"
   ]
  },
  {
   "cell_type": "code",
   "execution_count": 23,
   "id": "12ea31bd",
   "metadata": {},
   "outputs": [
    {
     "data": {
      "text/plain": [
       "array(['May-15', '', 'Sep-15', ..., 'Jun-15', 'Apr-15', 'Dec-15'], dtype='<U69')"
      ]
     },
     "execution_count": 23,
     "metadata": {},
     "output_type": "execute_result"
    }
   ],
   "source": [
    "data_str[:,0]"
   ]
  },
  {
   "cell_type": "code",
   "execution_count": 24,
   "id": "a936a0c6",
   "metadata": {},
   "outputs": [],
   "source": [
    "header_str[0] = 'Issue Date'"
   ]
  },
  {
   "cell_type": "code",
   "execution_count": 25,
   "id": "1737057c",
   "metadata": {},
   "outputs": [
    {
     "data": {
      "text/plain": [
       "array(['', 'Apr-15', 'Aug-15', 'Dec-15', 'Feb-15', 'Jan-15', 'Jul-15', 'Jun-15', 'Mar-15',\n",
       "       'May-15', 'Nov-15', 'Oct-15', 'Sep-15'], dtype='<U69')"
      ]
     },
     "execution_count": 25,
     "metadata": {},
     "output_type": "execute_result"
    }
   ],
   "source": [
    "np.unique(data_str[:,0])"
   ]
  },
  {
   "cell_type": "code",
   "execution_count": 26,
   "id": "2728e127",
   "metadata": {},
   "outputs": [],
   "source": [
    "# Keep only months of the date and change them into the number"
   ]
  },
  {
   "cell_type": "code",
   "execution_count": 27,
   "id": "d2b78449",
   "metadata": {},
   "outputs": [],
   "source": [
    "data_str[:,0] = np.chararray.strip(data_str[:,0], '-15')"
   ]
  },
  {
   "cell_type": "code",
   "execution_count": 28,
   "id": "40c7e037",
   "metadata": {},
   "outputs": [],
   "source": [
    "motnh = ['Jan', 'Feb', 'Mar', 'Apr', 'May', 'Jun', 'Jul', 'Aug', 'Sep', 'Oct', 'Nov', 'Dec']"
   ]
  },
  {
   "cell_type": "code",
   "execution_count": 29,
   "id": "ff3c8471",
   "metadata": {},
   "outputs": [],
   "source": [
    "for i in range(12):\n",
    "    data_str[:,0] = np.where(data_str[:,0] == motnh[i], i+1, data_str[:,0])"
   ]
  },
  {
   "cell_type": "code",
   "execution_count": 30,
   "id": "d0606235",
   "metadata": {},
   "outputs": [
    {
     "data": {
      "text/plain": [
       "array(['5', '', '9', ..., '6', '4', '12'], dtype='<U69')"
      ]
     },
     "execution_count": 30,
     "metadata": {},
     "output_type": "execute_result"
    }
   ],
   "source": [
    "data_str[:,0]"
   ]
  },
  {
   "cell_type": "code",
   "execution_count": 31,
   "id": "a86520a0",
   "metadata": {},
   "outputs": [],
   "source": [
    "data_str[:,0] = np.where(data_str[:,0] == '', 0, data_str[:,0])"
   ]
  },
  {
   "cell_type": "code",
   "execution_count": 32,
   "id": "8279e085",
   "metadata": {},
   "outputs": [
    {
     "data": {
      "text/plain": [
       "array([ 0,  1,  2,  3,  4,  5,  6,  7,  8,  9, 10, 11, 12])"
      ]
     },
     "execution_count": 32,
     "metadata": {},
     "output_type": "execute_result"
    }
   ],
   "source": [
    "np.sort(np.unique(data_str[:,0]).astype('int'))"
   ]
  },
  {
   "cell_type": "markdown",
   "id": "a177ab14",
   "metadata": {},
   "source": [
    "#### 3.2 Loan status"
   ]
  },
  {
   "cell_type": "code",
   "execution_count": 33,
   "id": "35ee6fd3",
   "metadata": {},
   "outputs": [
    {
     "data": {
      "text/plain": [
       "'loan_status'"
      ]
     },
     "execution_count": 33,
     "metadata": {},
     "output_type": "execute_result"
    }
   ],
   "source": [
    "header_str[1]"
   ]
  },
  {
   "cell_type": "code",
   "execution_count": 34,
   "id": "ace91dc6",
   "metadata": {},
   "outputs": [
    {
     "data": {
      "text/plain": [
       "array(['Current', 'Current', 'Current', ..., 'Current', 'Current', 'Current'], dtype='<U69')"
      ]
     },
     "execution_count": 34,
     "metadata": {},
     "output_type": "execute_result"
    }
   ],
   "source": [
    "data_str[:,1]"
   ]
  },
  {
   "cell_type": "code",
   "execution_count": 35,
   "id": "d5631d97",
   "metadata": {},
   "outputs": [],
   "source": [
    "header_str[1] = 'Loan status'"
   ]
  },
  {
   "cell_type": "code",
   "execution_count": 36,
   "id": "34e9491a",
   "metadata": {},
   "outputs": [
    {
     "data": {
      "text/plain": [
       "array(['', 'Charged Off', 'Current', 'Default', 'Fully Paid', 'In Grace Period', 'Issued',\n",
       "       'Late (16-30 days)', 'Late (31-120 days)'], dtype='<U69')"
      ]
     },
     "execution_count": 36,
     "metadata": {},
     "output_type": "execute_result"
    }
   ],
   "source": [
    "np.unique(data_str[:,1])"
   ]
  },
  {
   "cell_type": "code",
   "execution_count": 37,
   "id": "b60aec02",
   "metadata": {},
   "outputs": [],
   "source": [
    "status_bad = np.array(['','Charged Off','Default','Late (31-120 days)'])"
   ]
  },
  {
   "cell_type": "code",
   "execution_count": 38,
   "id": "d53dd47a",
   "metadata": {},
   "outputs": [],
   "source": [
    "data_str[:,1] = np.where(np.isin(data_str[:,1], status_bad), 0,1)"
   ]
  },
  {
   "cell_type": "code",
   "execution_count": 39,
   "id": "07b72ef4",
   "metadata": {},
   "outputs": [
    {
     "data": {
      "text/plain": [
       "array(['0', '1'], dtype='<U69')"
      ]
     },
     "execution_count": 39,
     "metadata": {},
     "output_type": "execute_result"
    }
   ],
   "source": [
    "np.unique(data_str[:,1])"
   ]
  },
  {
   "cell_type": "markdown",
   "id": "c870aca2",
   "metadata": {},
   "source": [
    "#### 3.3 Term"
   ]
  },
  {
   "cell_type": "code",
   "execution_count": 40,
   "id": "ad59f014",
   "metadata": {},
   "outputs": [
    {
     "data": {
      "text/plain": [
       "'term'"
      ]
     },
     "execution_count": 40,
     "metadata": {},
     "output_type": "execute_result"
    }
   ],
   "source": [
    "header_str[2]"
   ]
  },
  {
   "cell_type": "code",
   "execution_count": 41,
   "id": "656922cc",
   "metadata": {},
   "outputs": [
    {
     "data": {
      "text/plain": [
       "array([' 36 months', ' 36 months', ' 36 months', ..., ' 36 months', ' 36 months', ' 36 months'],\n",
       "      dtype='<U69')"
      ]
     },
     "execution_count": 41,
     "metadata": {},
     "output_type": "execute_result"
    }
   ],
   "source": [
    "data_str[:,2]"
   ]
  },
  {
   "cell_type": "code",
   "execution_count": 42,
   "id": "9a20688c",
   "metadata": {},
   "outputs": [],
   "source": [
    "header_str[2] = 'Term'"
   ]
  },
  {
   "cell_type": "code",
   "execution_count": 43,
   "id": "d925446f",
   "metadata": {},
   "outputs": [
    {
     "data": {
      "text/plain": [
       "array(['', ' 36 months', ' 60 months'], dtype='<U69')"
      ]
     },
     "execution_count": 43,
     "metadata": {},
     "output_type": "execute_result"
    }
   ],
   "source": [
    "np.unique(data_str[:,2])"
   ]
  },
  {
   "cell_type": "code",
   "execution_count": 44,
   "id": "eb33f4f3",
   "metadata": {},
   "outputs": [],
   "source": [
    "data_str[:,2] = np.chararray.strip(data_str[:,2], ' months')"
   ]
  },
  {
   "cell_type": "code",
   "execution_count": 45,
   "id": "ec1e29c7",
   "metadata": {},
   "outputs": [],
   "source": [
    "data_str[:,2] = np.where(data_str[:,2] == '', 60, data_str[:,2])"
   ]
  },
  {
   "cell_type": "code",
   "execution_count": 46,
   "id": "bc9b54f9",
   "metadata": {},
   "outputs": [
    {
     "data": {
      "text/plain": [
       "array(['36', '60'], dtype='<U69')"
      ]
     },
     "execution_count": 46,
     "metadata": {},
     "output_type": "execute_result"
    }
   ],
   "source": [
    "np.unique(data_str[:,2])"
   ]
  },
  {
   "cell_type": "markdown",
   "id": "bc11a167",
   "metadata": {},
   "source": [
    "#### 3.4 Grade and Sub Grade"
   ]
  },
  {
   "cell_type": "code",
   "execution_count": 47,
   "id": "a48d2d8a",
   "metadata": {},
   "outputs": [
    {
     "data": {
      "text/plain": [
       "'grade'"
      ]
     },
     "execution_count": 47,
     "metadata": {},
     "output_type": "execute_result"
    }
   ],
   "source": [
    "header_str[3]"
   ]
  },
  {
   "cell_type": "code",
   "execution_count": 48,
   "id": "e5462e7d",
   "metadata": {},
   "outputs": [
    {
     "data": {
      "text/plain": [
       "'sub_grade'"
      ]
     },
     "execution_count": 48,
     "metadata": {},
     "output_type": "execute_result"
    }
   ],
   "source": [
    "header_str[4]"
   ]
  },
  {
   "cell_type": "code",
   "execution_count": 49,
   "id": "380f459d",
   "metadata": {},
   "outputs": [],
   "source": [
    "header_str[3], header_str[4] = 'Grade', 'Sub Grade'"
   ]
  },
  {
   "cell_type": "code",
   "execution_count": 50,
   "id": "805797ad",
   "metadata": {},
   "outputs": [
    {
     "data": {
      "text/plain": [
       "array(['C', 'A', 'B', ..., 'A', 'D', 'A'], dtype='<U69')"
      ]
     },
     "execution_count": 50,
     "metadata": {},
     "output_type": "execute_result"
    }
   ],
   "source": [
    "data_str[:,3]"
   ]
  },
  {
   "cell_type": "code",
   "execution_count": 51,
   "id": "6a402b18",
   "metadata": {},
   "outputs": [
    {
     "data": {
      "text/plain": [
       "array(['C3', 'A5', 'B5', ..., 'A5', 'D2', 'A4'], dtype='<U69')"
      ]
     },
     "execution_count": 51,
     "metadata": {},
     "output_type": "execute_result"
    }
   ],
   "source": [
    "data_str[:,4]"
   ]
  },
  {
   "cell_type": "code",
   "execution_count": 52,
   "id": "c36b804c",
   "metadata": {},
   "outputs": [
    {
     "data": {
      "text/plain": [
       "array([['C', 'C3'],\n",
       "       ['A', 'A5'],\n",
       "       ['B', 'B5'],\n",
       "       ...,\n",
       "       ['A', 'A5'],\n",
       "       ['D', 'D2'],\n",
       "       ['A', 'A4']], dtype='<U69')"
      ]
     },
     "execution_count": 52,
     "metadata": {},
     "output_type": "execute_result"
    }
   ],
   "source": [
    "data_str[:, 3:5]"
   ]
  },
  {
   "cell_type": "code",
   "execution_count": 53,
   "id": "f62e1d78",
   "metadata": {},
   "outputs": [
    {
     "data": {
      "text/plain": [
       "array(['', 'A', 'B', 'C', 'D', 'E', 'F', 'G'], dtype='<U69')"
      ]
     },
     "execution_count": 53,
     "metadata": {},
     "output_type": "execute_result"
    }
   ],
   "source": [
    "np.unique(data_str[:,3])"
   ]
  },
  {
   "cell_type": "code",
   "execution_count": 54,
   "id": "89df3f64",
   "metadata": {},
   "outputs": [
    {
     "data": {
      "text/plain": [
       "array(['', 'A1', 'A2', 'A3', 'A4', 'A5', 'B1', 'B2', 'B3', 'B4', 'B5', 'C1', 'C2', 'C3', 'C4',\n",
       "       'C5', 'D1', 'D2', 'D3', 'D4', 'D5', 'E1', 'E2', 'E3', 'E4', 'E5', 'F1', 'F2', 'F3', 'F4',\n",
       "       'F5', 'G1', 'G2', 'G3', 'G4', 'G5'], dtype='<U69')"
      ]
     },
     "execution_count": 54,
     "metadata": {},
     "output_type": "execute_result"
    }
   ],
   "source": [
    "np.unique(data_str[:,4])"
   ]
  },
  {
   "cell_type": "code",
   "execution_count": 55,
   "id": "ba64acf4",
   "metadata": {},
   "outputs": [],
   "source": [
    "# Clean the '' value in Sub grade column:\n",
    "for i in np.unique(data_str[:,3]):\n",
    "    data_str[:,4] = np.where((data_str[:,3] == i) & (data_str[:,4] == ''),\n",
    "                              i + '5',\n",
    "                              data_str[:,4] )"
   ]
  },
  {
   "cell_type": "code",
   "execution_count": 56,
   "id": "8592a46a",
   "metadata": {},
   "outputs": [
    {
     "data": {
      "text/plain": [
       "array(['5', 'A1', 'A2', 'A3', 'A4', 'A5', 'B1', 'B2', 'B3', 'B4', 'B5', 'C1', 'C2', 'C3', 'C4',\n",
       "       'C5', 'D1', 'D2', 'D3', 'D4', 'D5', 'E1', 'E2', 'E3', 'E4', 'E5', 'F1', 'F2', 'F3', 'F4',\n",
       "       'F5', 'G1', 'G2', 'G3', 'G4', 'G5'], dtype='<U69')"
      ]
     },
     "execution_count": 56,
     "metadata": {},
     "output_type": "execute_result"
    }
   ],
   "source": [
    "np.unique(data_str[:,4])"
   ]
  },
  {
   "cell_type": "code",
   "execution_count": 57,
   "id": "e24e5157",
   "metadata": {},
   "outputs": [],
   "source": [
    "data_str[:,4] = np.where(data_str[:,4] == '5', 'H1', data_str[:,4])"
   ]
  },
  {
   "cell_type": "code",
   "execution_count": 58,
   "id": "7be0d31e",
   "metadata": {},
   "outputs": [
    {
     "data": {
      "text/plain": [
       "array(['A1', 'A2', 'A3', 'A4', 'A5', 'B1', 'B2', 'B3', 'B4', 'B5', 'C1', 'C2', 'C3', 'C4', 'C5',\n",
       "       'D1', 'D2', 'D3', 'D4', 'D5', 'E1', 'E2', 'E3', 'E4', 'E5', 'F1', 'F2', 'F3', 'F4', 'F5',\n",
       "       'G1', 'G2', 'G3', 'G4', 'G5', 'H1'], dtype='<U69')"
      ]
     },
     "execution_count": 58,
     "metadata": {},
     "output_type": "execute_result"
    }
   ],
   "source": [
    "np.unique(data_str[:,4])"
   ]
  },
  {
   "cell_type": "code",
   "execution_count": 59,
   "id": "5b7bd0dd",
   "metadata": {},
   "outputs": [],
   "source": [
    "# Delete the Grade column:\n",
    "data_str = np.delete(data_str, 3, axis = 1)"
   ]
  },
  {
   "cell_type": "code",
   "execution_count": 60,
   "id": "1f636b6c",
   "metadata": {},
   "outputs": [
    {
     "data": {
      "text/plain": [
       "array(['C3', 'A5', 'B5', ..., 'A5', 'D2', 'A4'], dtype='<U69')"
      ]
     },
     "execution_count": 60,
     "metadata": {},
     "output_type": "execute_result"
    }
   ],
   "source": [
    "data_str[:,3]"
   ]
  },
  {
   "cell_type": "code",
   "execution_count": 61,
   "id": "4e53dbe8",
   "metadata": {},
   "outputs": [],
   "source": [
    "header_str = np.delete(header_str, 3)"
   ]
  },
  {
   "cell_type": "code",
   "execution_count": 62,
   "id": "1275a400",
   "metadata": {},
   "outputs": [
    {
     "data": {
      "text/plain": [
       "array(['Issue Date', 'Loan status', 'Term', 'Sub Grade', 'verification_status', 'url',\n",
       "       'addr_state'], dtype='<U19')"
      ]
     },
     "execution_count": 62,
     "metadata": {},
     "output_type": "execute_result"
    }
   ],
   "source": [
    "header_str"
   ]
  },
  {
   "cell_type": "code",
   "execution_count": null,
   "id": "735467c6",
   "metadata": {},
   "outputs": [],
   "source": []
  },
  {
   "cell_type": "code",
   "execution_count": 63,
   "id": "e3f6ac97",
   "metadata": {
    "scrolled": true
   },
   "outputs": [
    {
     "data": {
      "text/plain": [
       "array(['A1', 'A2', 'A3', 'A4', 'A5', 'B1', 'B2', 'B3', 'B4', 'B5', 'C1', 'C2', 'C3', 'C4', 'C5',\n",
       "       'D1', 'D2', 'D3', 'D4', 'D5', 'E1', 'E2', 'E3', 'E4', 'E5', 'F1', 'F2', 'F3', 'F4', 'F5',\n",
       "       'G1', 'G2', 'G3', 'G4', 'G5', 'H1'], dtype='<U69')"
      ]
     },
     "execution_count": 63,
     "metadata": {},
     "output_type": "execute_result"
    }
   ],
   "source": [
    "# Converting sub grade to number:\n",
    "np.unique(data_str[:,3])"
   ]
  },
  {
   "cell_type": "code",
   "execution_count": 64,
   "id": "6b375907",
   "metadata": {},
   "outputs": [
    {
     "data": {
      "text/plain": [
       "(36,)"
      ]
     },
     "execution_count": 64,
     "metadata": {},
     "output_type": "execute_result"
    }
   ],
   "source": [
    "np.unique(data_str[:,3]).shape"
   ]
  },
  {
   "cell_type": "code",
   "execution_count": 65,
   "id": "868898ad",
   "metadata": {},
   "outputs": [],
   "source": [
    "value = list(range(1,37))\n",
    "key = np.unique(data_str[:,3])\n",
    "dic = dict(zip(key, value))"
   ]
  },
  {
   "cell_type": "code",
   "execution_count": 66,
   "id": "9037bf87",
   "metadata": {},
   "outputs": [
    {
     "data": {
      "text/plain": [
       "{'A1': 1,\n",
       " 'A2': 2,\n",
       " 'A3': 3,\n",
       " 'A4': 4,\n",
       " 'A5': 5,\n",
       " 'B1': 6,\n",
       " 'B2': 7,\n",
       " 'B3': 8,\n",
       " 'B4': 9,\n",
       " 'B5': 10,\n",
       " 'C1': 11,\n",
       " 'C2': 12,\n",
       " 'C3': 13,\n",
       " 'C4': 14,\n",
       " 'C5': 15,\n",
       " 'D1': 16,\n",
       " 'D2': 17,\n",
       " 'D3': 18,\n",
       " 'D4': 19,\n",
       " 'D5': 20,\n",
       " 'E1': 21,\n",
       " 'E2': 22,\n",
       " 'E3': 23,\n",
       " 'E4': 24,\n",
       " 'E5': 25,\n",
       " 'F1': 26,\n",
       " 'F2': 27,\n",
       " 'F3': 28,\n",
       " 'F4': 29,\n",
       " 'F5': 30,\n",
       " 'G1': 31,\n",
       " 'G2': 32,\n",
       " 'G3': 33,\n",
       " 'G4': 34,\n",
       " 'G5': 35,\n",
       " 'H1': 36}"
      ]
     },
     "execution_count": 66,
     "metadata": {},
     "output_type": "execute_result"
    }
   ],
   "source": [
    "dic"
   ]
  },
  {
   "cell_type": "code",
   "execution_count": 67,
   "id": "20935a53",
   "metadata": {},
   "outputs": [
    {
     "data": {
      "text/plain": [
       "array(['C3', 'A5', 'B5', ..., 'A5', 'D2', 'A4'], dtype='<U69')"
      ]
     },
     "execution_count": 67,
     "metadata": {},
     "output_type": "execute_result"
    }
   ],
   "source": [
    "data_str[:,3]"
   ]
  },
  {
   "cell_type": "code",
   "execution_count": 68,
   "id": "d2139707",
   "metadata": {},
   "outputs": [],
   "source": [
    "for i in key:\n",
    "    data_str[:,3] = np.where(data_str[:,3] == i, dic[i], data_str[:,3] )"
   ]
  },
  {
   "cell_type": "code",
   "execution_count": 69,
   "id": "412f7e84",
   "metadata": {},
   "outputs": [
    {
     "data": {
      "text/plain": [
       "array(['13', '5', '10', ..., '5', '17', '4'], dtype='<U69')"
      ]
     },
     "execution_count": 69,
     "metadata": {},
     "output_type": "execute_result"
    }
   ],
   "source": [
    "data_str[:,3]"
   ]
  },
  {
   "cell_type": "markdown",
   "id": "0208c716",
   "metadata": {},
   "source": [
    "#### 3.5 Verification Status"
   ]
  },
  {
   "cell_type": "code",
   "execution_count": 70,
   "id": "e61523b4",
   "metadata": {},
   "outputs": [
    {
     "data": {
      "text/plain": [
       "'verification_status'"
      ]
     },
     "execution_count": 70,
     "metadata": {},
     "output_type": "execute_result"
    }
   ],
   "source": [
    "header_str[4]"
   ]
  },
  {
   "cell_type": "code",
   "execution_count": 71,
   "id": "6718d09b",
   "metadata": {},
   "outputs": [
    {
     "data": {
      "text/plain": [
       "array(['Verified', 'Source Verified', 'Verified', ..., 'Source Verified', 'Source Verified', ''],\n",
       "      dtype='<U69')"
      ]
     },
     "execution_count": 71,
     "metadata": {},
     "output_type": "execute_result"
    }
   ],
   "source": [
    "data_str[:,4]"
   ]
  },
  {
   "cell_type": "code",
   "execution_count": 72,
   "id": "564cbe43",
   "metadata": {},
   "outputs": [],
   "source": [
    "header_str[4] = 'Verification Status'"
   ]
  },
  {
   "cell_type": "code",
   "execution_count": 73,
   "id": "40385c33",
   "metadata": {},
   "outputs": [
    {
     "data": {
      "text/plain": [
       "array(['', 'Not Verified', 'Source Verified', 'Verified'], dtype='<U69')"
      ]
     },
     "execution_count": 73,
     "metadata": {},
     "output_type": "execute_result"
    }
   ],
   "source": [
    "np.unique(data_str[:,4])"
   ]
  },
  {
   "cell_type": "code",
   "execution_count": 74,
   "id": "43c7e5ef",
   "metadata": {},
   "outputs": [],
   "source": [
    "bad_status = ['', 'Not Verified']"
   ]
  },
  {
   "cell_type": "code",
   "execution_count": 75,
   "id": "8465f904",
   "metadata": {},
   "outputs": [],
   "source": [
    "data_str[:,4] = np.where(np.isin(data_str[:,4], bad_status), 0,1)"
   ]
  },
  {
   "cell_type": "code",
   "execution_count": 76,
   "id": "48664053",
   "metadata": {},
   "outputs": [
    {
     "data": {
      "text/plain": [
       "array(['1', '1', '1', ..., '1', '1', '0'], dtype='<U69')"
      ]
     },
     "execution_count": 76,
     "metadata": {},
     "output_type": "execute_result"
    }
   ],
   "source": [
    "data_str[:,4]"
   ]
  },
  {
   "cell_type": "code",
   "execution_count": 77,
   "id": "f06f5eee",
   "metadata": {},
   "outputs": [
    {
     "data": {
      "text/plain": [
       "array(['0', '1'], dtype='<U69')"
      ]
     },
     "execution_count": 77,
     "metadata": {},
     "output_type": "execute_result"
    }
   ],
   "source": [
    "np.unique(data_str[:,4])"
   ]
  },
  {
   "cell_type": "markdown",
   "id": "c792921e",
   "metadata": {},
   "source": [
    "#### 3.6 URL"
   ]
  },
  {
   "cell_type": "code",
   "execution_count": 78,
   "id": "348ffb30",
   "metadata": {},
   "outputs": [
    {
     "data": {
      "text/plain": [
       "'url'"
      ]
     },
     "execution_count": 78,
     "metadata": {},
     "output_type": "execute_result"
    }
   ],
   "source": [
    "header_str[5]"
   ]
  },
  {
   "cell_type": "code",
   "execution_count": 79,
   "id": "b2173dd0",
   "metadata": {},
   "outputs": [
    {
     "data": {
      "text/plain": [
       "array(['https://www.lendingclub.com/browse/loanDetail.action?loan_id=48010226',\n",
       "       'https://www.lendingclub.com/browse/loanDetail.action?loan_id=57693261',\n",
       "       'https://www.lendingclub.com/browse/loanDetail.action?loan_id=59432726', ...,\n",
       "       'https://www.lendingclub.com/browse/loanDetail.action?loan_id=50415990',\n",
       "       'https://www.lendingclub.com/browse/loanDetail.action?loan_id=46154151',\n",
       "       'https://www.lendingclub.com/browse/loanDetail.action?loan_id=66055249'], dtype='<U69')"
      ]
     },
     "execution_count": 79,
     "metadata": {},
     "output_type": "execute_result"
    }
   ],
   "source": [
    "data_str[:,5]"
   ]
  },
  {
   "cell_type": "code",
   "execution_count": 80,
   "id": "e51e51fa",
   "metadata": {},
   "outputs": [],
   "source": [
    "header_str[5] = 'URL'"
   ]
  },
  {
   "cell_type": "code",
   "execution_count": 81,
   "id": "ba5f43c4",
   "metadata": {},
   "outputs": [],
   "source": [
    "data_str[:,5] = np.chararray.strip(data_str[:,5], 'https://www.lendingclub.com/browse/loanDetail.action?loan_id=')"
   ]
  },
  {
   "cell_type": "code",
   "execution_count": 82,
   "id": "8a2a29f7",
   "metadata": {},
   "outputs": [
    {
     "data": {
      "text/plain": [
       "array([48010226, 57693261, 59432726, ..., 50415990, 46154151, 66055249])"
      ]
     },
     "execution_count": 82,
     "metadata": {},
     "output_type": "execute_result"
    }
   ],
   "source": [
    "a = data_str[:,5].astype(int)\n",
    "a"
   ]
  },
  {
   "cell_type": "code",
   "execution_count": 83,
   "id": "3a218ee5",
   "metadata": {},
   "outputs": [
    {
     "data": {
      "text/plain": [
       "array([48010226, 57693261, 59432726, ..., 50415990, 46154151, 66055249])"
      ]
     },
     "execution_count": 83,
     "metadata": {},
     "output_type": "execute_result"
    }
   ],
   "source": [
    "b = data_num[:,0].astype(int)\n",
    "b"
   ]
  },
  {
   "cell_type": "code",
   "execution_count": 84,
   "id": "7136e1d5",
   "metadata": {},
   "outputs": [
    {
     "data": {
      "text/plain": [
       "array([ True])"
      ]
     },
     "execution_count": 84,
     "metadata": {},
     "output_type": "execute_result"
    }
   ],
   "source": [
    "np.unique(np.equal(a,b))\n",
    "# URL column is as same as ID column so we don't need URL column in the data."
   ]
  },
  {
   "cell_type": "code",
   "execution_count": 85,
   "id": "b06acd66",
   "metadata": {},
   "outputs": [],
   "source": [
    "data_str = np.delete(data_str,5, axis = 1)\n",
    "header_str = np.delete(header_str, 5)"
   ]
  },
  {
   "cell_type": "code",
   "execution_count": 86,
   "id": "e31869c4",
   "metadata": {},
   "outputs": [
    {
     "data": {
      "text/plain": [
       "array([['5', '1', '36', '13', '1', 'CA'],\n",
       "       ['0', '1', '36', '5', '1', 'NY'],\n",
       "       ['9', '1', '36', '10', '1', 'PA'],\n",
       "       ...,\n",
       "       ['6', '1', '36', '5', '1', 'CA'],\n",
       "       ['4', '1', '36', '17', '1', 'OH'],\n",
       "       ['12', '1', '36', '4', '0', 'IL']], dtype='<U69')"
      ]
     },
     "execution_count": 86,
     "metadata": {},
     "output_type": "execute_result"
    }
   ],
   "source": [
    "data_str"
   ]
  },
  {
   "cell_type": "code",
   "execution_count": 87,
   "id": "04f7b072",
   "metadata": {},
   "outputs": [
    {
     "data": {
      "text/plain": [
       "array(['Issue Date', 'Loan status', 'Term', 'Sub Grade', 'Verification Status', 'addr_state'],\n",
       "      dtype='<U19')"
      ]
     },
     "execution_count": 87,
     "metadata": {},
     "output_type": "execute_result"
    }
   ],
   "source": [
    "header_str"
   ]
  },
  {
   "cell_type": "markdown",
   "id": "f0450643",
   "metadata": {},
   "source": [
    "#### 3.7 Address State"
   ]
  },
  {
   "cell_type": "code",
   "execution_count": 88,
   "id": "e15177e3",
   "metadata": {},
   "outputs": [
    {
     "data": {
      "text/plain": [
       "'addr_state'"
      ]
     },
     "execution_count": 88,
     "metadata": {},
     "output_type": "execute_result"
    }
   ],
   "source": [
    "header_str[5]"
   ]
  },
  {
   "cell_type": "code",
   "execution_count": 89,
   "id": "8d315c05",
   "metadata": {},
   "outputs": [
    {
     "data": {
      "text/plain": [
       "array(['CA', 'NY', 'PA', ..., 'CA', 'OH', 'IL'], dtype='<U69')"
      ]
     },
     "execution_count": 89,
     "metadata": {},
     "output_type": "execute_result"
    }
   ],
   "source": [
    "data_str[:,5]"
   ]
  },
  {
   "cell_type": "code",
   "execution_count": 90,
   "id": "e8b61a25",
   "metadata": {},
   "outputs": [],
   "source": [
    "header_str[5] = 'Address State'"
   ]
  },
  {
   "cell_type": "code",
   "execution_count": 91,
   "id": "84518e4a",
   "metadata": {},
   "outputs": [
    {
     "data": {
      "text/plain": [
       "array(['', 'AK', 'AL', 'AR', 'AZ', 'CA', 'CO', 'CT', 'DC', 'DE', 'FL', 'GA', 'HI', 'IL', 'IN',\n",
       "       'KS', 'KY', 'LA', 'MA', 'MD', 'ME', 'MI', 'MN', 'MO', 'MS', 'MT', 'NC', 'ND', 'NE', 'NH',\n",
       "       'NJ', 'NM', 'NV', 'NY', 'OH', 'OK', 'OR', 'PA', 'RI', 'SC', 'SD', 'TN', 'TX', 'UT', 'VA',\n",
       "       'VT', 'WA', 'WI', 'WV', 'WY'], dtype='<U69')"
      ]
     },
     "execution_count": 91,
     "metadata": {},
     "output_type": "execute_result"
    }
   ],
   "source": [
    "np.unique(data_str[:,5])"
   ]
  },
  {
   "cell_type": "code",
   "execution_count": 92,
   "id": "a3395151",
   "metadata": {},
   "outputs": [],
   "source": [
    "# According to request of the manager, we put these states into 4 regions: West(1), South(2), Mid-West(3), East(4).\n",
    "states_west = np.array(['WA', 'OR','CA','NV','ID','MT', 'WY','UT','CO', 'AZ','NM','HI','AK'])\n",
    "states_south = np.array(['TX','OK','AR','LA','MS','AL','TN','KY','FL','GA','SC','NC','VA','WV','MD','DE','DC'])\n",
    "states_midwest = np.array(['ND','SD','NE','KS','MN','IA','MO','WI','IL','IN','MI','OH'])\n",
    "states_east = np.array(['PA','NY','NJ','CT','MA','VT','NH','ME','RI'])"
   ]
  },
  {
   "cell_type": "code",
   "execution_count": 93,
   "id": "0bb6004e",
   "metadata": {},
   "outputs": [],
   "source": [
    "data_str[:,5] = np.where(np.isin(data_str[:,5], states_west),1, data_str[:,5])\n",
    "data_str[:,5] = np.where(np.isin(data_str[:,5], states_south),2, data_str[:,5])\n",
    "data_str[:,5] = np.where(np.isin(data_str[:,5], states_midwest),3, data_str[:,5])\n",
    "data_str[:,5] = np.where(np.isin(data_str[:,5], states_east),4, data_str[:,5])"
   ]
  },
  {
   "cell_type": "code",
   "execution_count": 94,
   "id": "322063a2",
   "metadata": {},
   "outputs": [],
   "source": [
    "data_str[:,5] = np.where(data_str[:,5] == '',0, data_str[:,5])"
   ]
  },
  {
   "cell_type": "code",
   "execution_count": 95,
   "id": "79bde968",
   "metadata": {},
   "outputs": [
    {
     "data": {
      "text/plain": [
       "array(['0', '1', '2', '3', '4'], dtype='<U69')"
      ]
     },
     "execution_count": 95,
     "metadata": {},
     "output_type": "execute_result"
    }
   ],
   "source": [
    "np.unique(data_str[:,5])"
   ]
  },
  {
   "cell_type": "markdown",
   "id": "10cc3f99",
   "metadata": {},
   "source": [
    "### 4. Clean the Number Data"
   ]
  },
  {
   "cell_type": "code",
   "execution_count": 96,
   "id": "49c406d3",
   "metadata": {},
   "outputs": [
    {
     "data": {
      "text/plain": [
       "array(['id', 'loan_amnt', 'funded_amnt', 'int_rate', 'installment', 'total_pymnt'], dtype='<U19')"
      ]
     },
     "execution_count": 96,
     "metadata": {},
     "output_type": "execute_result"
    }
   ],
   "source": [
    "header_num"
   ]
  },
  {
   "cell_type": "code",
   "execution_count": 97,
   "id": "c11f8727",
   "metadata": {},
   "outputs": [
    {
     "data": {
      "text/plain": [
       "array([[48010226.  ,    35000.  ,    35000.  ,       13.33,     1184.86,     9452.96],\n",
       "       [57693261.  ,    30000.  ,    30000.  , 68616520.  ,      938.57,     4679.7 ],\n",
       "       [59432726.  ,    15000.  ,    15000.  , 68616520.  ,      494.86,     1969.83],\n",
       "       ...,\n",
       "       [50415990.  ,    10000.  ,    10000.  , 68616520.  , 68616520.  ,     2185.64],\n",
       "       [46154151.  , 68616520.  ,    10000.  ,       16.55,      354.3 ,     3199.4 ],\n",
       "       [66055249.  ,    10000.  ,    10000.  , 68616520.  ,      309.97,      301.9 ]])"
      ]
     },
     "execution_count": 97,
     "metadata": {},
     "output_type": "execute_result"
    }
   ],
   "source": [
    "data_num"
   ]
  },
  {
   "cell_type": "markdown",
   "id": "7776a454",
   "metadata": {},
   "source": [
    "#### 4.1 ID"
   ]
  },
  {
   "cell_type": "code",
   "execution_count": 98,
   "id": "1b362030",
   "metadata": {},
   "outputs": [],
   "source": [
    "header_num[0] = 'ID'"
   ]
  },
  {
   "cell_type": "code",
   "execution_count": 99,
   "id": "40712e55",
   "metadata": {},
   "outputs": [
    {
     "data": {
      "text/plain": [
       "0"
      ]
     },
     "execution_count": 99,
     "metadata": {},
     "output_type": "execute_result"
    }
   ],
   "source": [
    "np.isin(data_num[:,0], temporary_fill).sum()\n",
    "# There is no temporary fill value in ID column -> This column is clean already."
   ]
  },
  {
   "cell_type": "markdown",
   "id": "84880723",
   "metadata": {},
   "source": [
    "#### 4.2 Temporary stats"
   ]
  },
  {
   "cell_type": "code",
   "execution_count": 100,
   "id": "d757c017",
   "metadata": {},
   "outputs": [],
   "source": [
    "data_num_raw = data[:,num_index]"
   ]
  },
  {
   "cell_type": "code",
   "execution_count": 101,
   "id": "4ec09408",
   "metadata": {},
   "outputs": [],
   "source": [
    "temporary_stats = np.array([np.nanmin(data_num_raw, axis = 0),\n",
    "                           np.nanmax(data_num_raw, axis = 0)])"
   ]
  },
  {
   "cell_type": "code",
   "execution_count": 102,
   "id": "2de739e5",
   "metadata": {},
   "outputs": [
    {
     "data": {
      "text/plain": [
       "array([[  373332.  ,     1000.  ,     1000.  ,        6.  ,       31.42,        0.  ],\n",
       "       [68616519.  ,    35000.  ,    35000.  ,       28.99,     1372.97,    41913.62]])"
      ]
     },
     "execution_count": 102,
     "metadata": {},
     "output_type": "execute_result"
    }
   ],
   "source": [
    "temporary_stats\n",
    "# This is the min and max value of each number-type column."
   ]
  },
  {
   "cell_type": "markdown",
   "id": "997a3c75",
   "metadata": {},
   "source": [
    "#### 4.3 Loaned Amount, Interest Rate, Total Payment, Installment"
   ]
  },
  {
   "cell_type": "code",
   "execution_count": 103,
   "id": "20d2b6f9",
   "metadata": {},
   "outputs": [
    {
     "data": {
      "text/plain": [
       "array(['ID', 'loan_amnt', 'funded_amnt', 'int_rate', 'installment', 'total_pymnt'], dtype='<U19')"
      ]
     },
     "execution_count": 103,
     "metadata": {},
     "output_type": "execute_result"
    }
   ],
   "source": [
    "header_num"
   ]
  },
  {
   "cell_type": "code",
   "execution_count": 104,
   "id": "c7e05ef7",
   "metadata": {},
   "outputs": [],
   "source": [
    "header_num = np.array(['ID', 'Loaned Amount', 'Funded Amount', 'Interest Rate', 'Installment', 'Total Payment'])"
   ]
  },
  {
   "cell_type": "code",
   "execution_count": 105,
   "id": "b11e2383",
   "metadata": {},
   "outputs": [
    {
     "data": {
      "text/plain": [
       "500"
      ]
     },
     "execution_count": 105,
     "metadata": {},
     "output_type": "execute_result"
    }
   ],
   "source": [
    "# Loaned amount\n",
    "np.isin(data_num[:,1], temporary_fill).sum() "
   ]
  },
  {
   "cell_type": "code",
   "execution_count": 106,
   "id": "645af84c",
   "metadata": {},
   "outputs": [
    {
     "data": {
      "text/plain": [
       "6004"
      ]
     },
     "execution_count": 106,
     "metadata": {},
     "output_type": "execute_result"
    }
   ],
   "source": [
    "# Interest rate\n",
    "np.isin(data_num[:,3], temporary_fill).sum() "
   ]
  },
  {
   "cell_type": "code",
   "execution_count": 107,
   "id": "361ab724",
   "metadata": {},
   "outputs": [
    {
     "data": {
      "text/plain": [
       "501"
      ]
     },
     "execution_count": 107,
     "metadata": {},
     "output_type": "execute_result"
    }
   ],
   "source": [
    "# Installment\n",
    "np.isin(data_num[:,4], temporary_fill).sum() "
   ]
  },
  {
   "cell_type": "code",
   "execution_count": 108,
   "id": "dbeea5ee",
   "metadata": {},
   "outputs": [
    {
     "data": {
      "text/plain": [
       "500"
      ]
     },
     "execution_count": 108,
     "metadata": {},
     "output_type": "execute_result"
    }
   ],
   "source": [
    "# Total payment\n",
    "np.isin(data_num[:,5], temporary_fill).sum() "
   ]
  },
  {
   "cell_type": "code",
   "execution_count": 109,
   "id": "e5f24440",
   "metadata": {},
   "outputs": [],
   "source": [
    "# We repalce the temporary fill values (NaN) of these columns with max values of each columns correspondingly.\n",
    "#(According to credit risk regulations of the bank)"
   ]
  },
  {
   "cell_type": "code",
   "execution_count": 110,
   "id": "ff591d67",
   "metadata": {},
   "outputs": [],
   "source": [
    "for i in [1,3,4,5]:\n",
    "    data_num[:,i] = np.where(data_num[:,i] == temporary_fill, \n",
    "                             temporary_stats[1, i],\n",
    "                             data_num[:,i])"
   ]
  },
  {
   "cell_type": "markdown",
   "id": "ba9301a1",
   "metadata": {},
   "source": [
    "#### 4.4 Funded amount"
   ]
  },
  {
   "cell_type": "code",
   "execution_count": 111,
   "id": "a6e678f0",
   "metadata": {},
   "outputs": [
    {
     "data": {
      "text/plain": [
       "500"
      ]
     },
     "execution_count": 111,
     "metadata": {},
     "output_type": "execute_result"
    }
   ],
   "source": [
    "np.isin(data_num[:,2], temporary_fill).sum() "
   ]
  },
  {
   "cell_type": "code",
   "execution_count": 112,
   "id": "3740bb15",
   "metadata": {},
   "outputs": [],
   "source": [
    "# We repalce the temporary fill value (NaN) of Funded amount column with min value.\n",
    "#(According to credit risk regulations of the bank):\n",
    "data_num[:,2] = np.where(data_num[:,2] == temporary_fill,\n",
    "                         temporary_stats[0,2],\n",
    "                        data_num[:,2])"
   ]
  },
  {
   "cell_type": "markdown",
   "id": "d5e16a8a",
   "metadata": {},
   "source": [
    "#### 4.5 Change the currency from EUR to USD"
   ]
  },
  {
   "cell_type": "code",
   "execution_count": 113,
   "id": "a2ff161c",
   "metadata": {},
   "outputs": [],
   "source": [
    "# The currency used in this data is EUR so we need to change it to USD"
   ]
  },
  {
   "cell_type": "code",
   "execution_count": 114,
   "id": "52b3f868",
   "metadata": {},
   "outputs": [],
   "source": [
    "# Import currency exchange rate:\n",
    "rate = np.genfromtxt('EUR-USD.csv', delimiter = ',', skip_header= 1, usecols = 3)"
   ]
  },
  {
   "cell_type": "code",
   "execution_count": 115,
   "id": "49930cf0",
   "metadata": {},
   "outputs": [
    {
     "data": {
      "text/plain": [
       "array([1.13, 1.12, 1.08, 1.11, 1.1 , 1.12, 1.09, 1.13, 1.13, 1.1 , 1.06, 1.09])"
      ]
     },
     "execution_count": 115,
     "metadata": {},
     "output_type": "execute_result"
    }
   ],
   "source": [
    "rate\n",
    "# These are EUR/USD exchange rates for each month from January to December"
   ]
  },
  {
   "cell_type": "code",
   "execution_count": 116,
   "id": "487ee45a",
   "metadata": {},
   "outputs": [],
   "source": [
    "# Creat a exchange rate column base on Date column:"
   ]
  },
  {
   "cell_type": "code",
   "execution_count": 117,
   "id": "90126067",
   "metadata": {},
   "outputs": [
    {
     "data": {
      "text/plain": [
       "array(['5', '0', '9', ..., '6', '4', '12'], dtype='<U69')"
      ]
     },
     "execution_count": 117,
     "metadata": {},
     "output_type": "execute_result"
    }
   ],
   "source": [
    "data_str[:,0]"
   ]
  },
  {
   "cell_type": "code",
   "execution_count": 118,
   "id": "2c9fbdc6",
   "metadata": {},
   "outputs": [],
   "source": [
    "exchange_rate = data_str[:,0].astype(int)"
   ]
  },
  {
   "cell_type": "code",
   "execution_count": 119,
   "id": "95044c90",
   "metadata": {},
   "outputs": [],
   "source": [
    "for i in range(13):\n",
    "    exchange_rate = np.where(exchange_rate == i, rate[i-1], exchange_rate)\n",
    "    "
   ]
  },
  {
   "cell_type": "code",
   "execution_count": 120,
   "id": "3a8444b1",
   "metadata": {},
   "outputs": [
    {
     "data": {
      "text/plain": [
       "array([1.1 , 1.09, 1.13, ..., 1.12, 1.11, 1.09])"
      ]
     },
     "execution_count": 120,
     "metadata": {},
     "output_type": "execute_result"
    }
   ],
   "source": [
    "exchange_rate"
   ]
  },
  {
   "cell_type": "code",
   "execution_count": 121,
   "id": "52a2fcd2",
   "metadata": {},
   "outputs": [],
   "source": [
    "exchange_rate = exchange_rate.reshape(10000,1)"
   ]
  },
  {
   "cell_type": "code",
   "execution_count": 122,
   "id": "86878df7",
   "metadata": {},
   "outputs": [],
   "source": [
    "data_num = np.hstack([data_num, exchange_rate])"
   ]
  },
  {
   "cell_type": "code",
   "execution_count": 123,
   "id": "07a0ea0b",
   "metadata": {},
   "outputs": [
    {
     "data": {
      "text/plain": [
       "array([[48010226.  ,    35000.  ,    35000.  , ...,     1184.86,     9452.96,        1.1 ],\n",
       "       [57693261.  ,    30000.  ,    30000.  , ...,      938.57,     4679.7 ,        1.09],\n",
       "       [59432726.  ,    15000.  ,    15000.  , ...,      494.86,     1969.83,        1.13],\n",
       "       ...,\n",
       "       [50415990.  ,    10000.  ,    10000.  , ...,     1372.97,     2185.64,        1.12],\n",
       "       [46154151.  ,    35000.  ,    10000.  , ...,      354.3 ,     3199.4 ,        1.11],\n",
       "       [66055249.  ,    10000.  ,    10000.  , ...,      309.97,      301.9 ,        1.09]])"
      ]
     },
     "execution_count": 123,
     "metadata": {},
     "output_type": "execute_result"
    }
   ],
   "source": [
    "data_num"
   ]
  },
  {
   "cell_type": "code",
   "execution_count": 124,
   "id": "eeca09ae",
   "metadata": {},
   "outputs": [],
   "source": [
    "header_num = np.append(header_num, 'Exchange Rate')"
   ]
  },
  {
   "cell_type": "code",
   "execution_count": 125,
   "id": "0ae9c4d7",
   "metadata": {},
   "outputs": [],
   "source": [
    "# Change 'Loaned Amount', 'Funded Amount', 'Interest Rate', 'Installment', 'Total Payment' columns to USD"
   ]
  },
  {
   "cell_type": "code",
   "execution_count": 126,
   "id": "27400075",
   "metadata": {},
   "outputs": [],
   "source": [
    "eur_col = [1,2,4,5]"
   ]
  },
  {
   "cell_type": "code",
   "execution_count": 127,
   "id": "54d85a93",
   "metadata": {},
   "outputs": [],
   "source": [
    "for i in eur_col:\n",
    "    data_num = np.hstack([data_num, (data_num[:,i]/data_num[:,6]).reshape(10000,1)])"
   ]
  },
  {
   "cell_type": "code",
   "execution_count": 128,
   "id": "2cc607b5",
   "metadata": {},
   "outputs": [
    {
     "data": {
      "text/plain": [
       "(10000, 11)"
      ]
     },
     "execution_count": 128,
     "metadata": {},
     "output_type": "execute_result"
    }
   ],
   "source": [
    "data_num.shape"
   ]
  },
  {
   "cell_type": "code",
   "execution_count": 129,
   "id": "24382dd6",
   "metadata": {},
   "outputs": [],
   "source": [
    "for i in eur_col:\n",
    "  header_num = np.append(header_num, header_num[i] + ' USD')"
   ]
  },
  {
   "cell_type": "code",
   "execution_count": 130,
   "id": "728c6bb7",
   "metadata": {},
   "outputs": [
    {
     "data": {
      "text/plain": [
       "array(['ID', 'Loaned Amount', 'Funded Amount', 'Interest Rate', 'Installment', 'Total Payment',\n",
       "       'Exchange Rate', 'Loaned Amount USD', 'Funded Amount USD', 'Installment USD',\n",
       "       'Total Payment USD'], dtype='<U17')"
      ]
     },
     "execution_count": 130,
     "metadata": {},
     "output_type": "execute_result"
    }
   ],
   "source": [
    "header_num"
   ]
  },
  {
   "cell_type": "code",
   "execution_count": 131,
   "id": "a01f6669",
   "metadata": {},
   "outputs": [],
   "source": [
    "col_reorder = [0,1,7,2,8,3,4,9,5,10,6]"
   ]
  },
  {
   "cell_type": "code",
   "execution_count": 132,
   "id": "c2f66529",
   "metadata": {},
   "outputs": [],
   "source": [
    "header_num = header_num[col_reorder]"
   ]
  },
  {
   "cell_type": "code",
   "execution_count": 133,
   "id": "380c7cdb",
   "metadata": {},
   "outputs": [],
   "source": [
    "data_num = data_num[:, col_reorder]"
   ]
  },
  {
   "cell_type": "code",
   "execution_count": 134,
   "id": "d1121859",
   "metadata": {},
   "outputs": [
    {
     "data": {
      "text/plain": [
       "array([[48010226.  ,    35000.  ,    31933.3 , ...,     9452.96,     8624.69,        1.1 ],\n",
       "       [57693261.  ,    30000.  ,    27437.4 , ...,     4679.7 ,     4279.96,        1.09],\n",
       "       [59432726.  ,    15000.  ,    13326.3 , ...,     1969.83,     1750.04,        1.13],\n",
       "       ...,\n",
       "       [50415990.  ,    10000.  ,     8910.3 , ...,     2185.64,     1947.47,        1.12],\n",
       "       [46154151.  ,    35000.  ,    31490.9 , ...,     3199.4 ,     2878.63,        1.11],\n",
       "       [66055249.  ,    10000.  ,     9145.8 , ...,      301.9 ,      276.11,        1.09]])"
      ]
     },
     "execution_count": 134,
     "metadata": {},
     "output_type": "execute_result"
    }
   ],
   "source": [
    "data_num"
   ]
  },
  {
   "cell_type": "markdown",
   "id": "4687113e",
   "metadata": {},
   "source": [
    "### 5. Complete the data for analysing"
   ]
  },
  {
   "cell_type": "markdown",
   "id": "be1bacd0",
   "metadata": {},
   "source": [
    "#### 5.1 Stack number and string data"
   ]
  },
  {
   "cell_type": "code",
   "execution_count": 135,
   "id": "846392bb",
   "metadata": {},
   "outputs": [
    {
     "data": {
      "text/plain": [
       "array(['ID', 'Loaned Amount', 'Loaned Amount USD', 'Funded Amount', 'Funded Amount USD',\n",
       "       'Interest Rate', 'Installment', 'Installment USD', 'Total Payment', 'Total Payment USD',\n",
       "       'Exchange Rate'], dtype='<U17')"
      ]
     },
     "execution_count": 135,
     "metadata": {},
     "output_type": "execute_result"
    }
   ],
   "source": [
    "header_num"
   ]
  },
  {
   "cell_type": "code",
   "execution_count": 136,
   "id": "9686c082",
   "metadata": {},
   "outputs": [
    {
     "data": {
      "text/plain": [
       "array(['Issue Date', 'Loan status', 'Term', 'Sub Grade', 'Verification Status', 'Address State'],\n",
       "      dtype='<U19')"
      ]
     },
     "execution_count": 136,
     "metadata": {},
     "output_type": "execute_result"
    }
   ],
   "source": [
    "header_str"
   ]
  },
  {
   "cell_type": "code",
   "execution_count": 137,
   "id": "0497b68c",
   "metadata": {},
   "outputs": [
    {
     "data": {
      "text/plain": [
       "array(['ID', 'Loaned Amount', 'Loaned Amount USD', 'Funded Amount', 'Funded Amount USD',\n",
       "       'Interest Rate', 'Installment', 'Installment USD', 'Total Payment', 'Total Payment USD',\n",
       "       'Exchange Rate', 'Issue Date', 'Loan status', 'Term', 'Sub Grade', 'Verification Status',\n",
       "       'Address State'], dtype='<U19')"
      ]
     },
     "execution_count": 137,
     "metadata": {},
     "output_type": "execute_result"
    }
   ],
   "source": [
    "header_full = np.append(header_num, header_str)\n",
    "header_full"
   ]
  },
  {
   "cell_type": "code",
   "execution_count": 138,
   "id": "89a92183",
   "metadata": {},
   "outputs": [
    {
     "data": {
      "text/plain": [
       "(17,)"
      ]
     },
     "execution_count": 138,
     "metadata": {},
     "output_type": "execute_result"
    }
   ],
   "source": [
    "header_full.shape"
   ]
  },
  {
   "cell_type": "code",
   "execution_count": 139,
   "id": "466d6254",
   "metadata": {
    "scrolled": true
   },
   "outputs": [
    {
     "data": {
      "text/plain": [
       "array([[48010226. ,    35000. ,    31933.3, ...,       13. ,        1. ,        1. ],\n",
       "       [57693261. ,    30000. ,    27437.4, ...,        5. ,        1. ,        4. ],\n",
       "       [59432726. ,    15000. ,    13326.3, ...,       10. ,        1. ,        4. ],\n",
       "       ...,\n",
       "       [50415990. ,    10000. ,     8910.3, ...,        5. ,        1. ,        1. ],\n",
       "       [46154151. ,    35000. ,    31490.9, ...,       17. ,        1. ,        3. ],\n",
       "       [66055249. ,    10000. ,     9145.8, ...,        4. ,        0. ,        3. ]])"
      ]
     },
     "execution_count": 139,
     "metadata": {},
     "output_type": "execute_result"
    }
   ],
   "source": [
    "data_full = np.hstack([data_num, data_str.astype(int)])\n",
    "data_full"
   ]
  },
  {
   "cell_type": "code",
   "execution_count": 140,
   "id": "a1d2dd01",
   "metadata": {},
   "outputs": [
    {
     "data": {
      "text/plain": [
       "array([2086, 4812, 2353, ..., 4935, 9388, 8415], dtype=int64)"
      ]
     },
     "execution_count": 140,
     "metadata": {},
     "output_type": "execute_result"
    }
   ],
   "source": [
    "# Short the data by ID:\n",
    "id_order = np.argsort(data_full[:,0])\n",
    "id_order"
   ]
  },
  {
   "cell_type": "code",
   "execution_count": 141,
   "id": "5d54fd27",
   "metadata": {},
   "outputs": [
    {
     "data": {
      "text/plain": [
       "array([  373332.,   575239.,   707689., ..., 68614880., 68615915., 68616519.])"
      ]
     },
     "execution_count": 141,
     "metadata": {},
     "output_type": "execute_result"
    }
   ],
   "source": [
    "data_full[:,0][id_order]"
   ]
  },
  {
   "cell_type": "code",
   "execution_count": 142,
   "id": "01d0a560",
   "metadata": {},
   "outputs": [],
   "source": [
    "data_full = data_full[id_order,:]"
   ]
  },
  {
   "cell_type": "code",
   "execution_count": 143,
   "id": "1949054a",
   "metadata": {},
   "outputs": [
    {
     "data": {
      "text/plain": [
       "array([[  373332.  ,     9950.  ,     9038.08, ...,       21.  ,        0.  ,        1.  ],\n",
       "       [  575239.  ,    12000.  ,    10900.2 , ...,       25.  ,        1.  ,        2.  ],\n",
       "       [  707689.  ,    10000.  ,     8924.3 , ...,       13.  ,        1.  ,        0.  ],\n",
       "       ...,\n",
       "       [68614880.  ,     5600.  ,     5121.65, ...,        8.  ,        1.  ,        1.  ],\n",
       "       [68615915.  ,     4000.  ,     3658.32, ...,       10.  ,        1.  ,        2.  ],\n",
       "       [68616519.  ,    21600.  ,    19754.93, ...,        3.  ,        0.  ,        2.  ]])"
      ]
     },
     "execution_count": 143,
     "metadata": {},
     "output_type": "execute_result"
    }
   ],
   "source": [
    "data_full"
   ]
  },
  {
   "cell_type": "code",
   "execution_count": 144,
   "id": "447517dd",
   "metadata": {},
   "outputs": [
    {
     "data": {
      "text/plain": [
       "array([['ID', 'Loaned Amount', 'Loaned Amount USD', ..., 'Sub Grade', 'Verification Status',\n",
       "        'Address State'],\n",
       "       ['373332.0', '9950.0', '9038.082814338286', ..., '21.0', '0.0', '1.0'],\n",
       "       ['575239.0', '12000.0', '10900.20037910145', ..., '25.0', '1.0', '2.0'],\n",
       "       ...,\n",
       "       ['68614880.0', '5600.0', '5121.647851612413', ..., '8.0', '1.0', '1.0'],\n",
       "       ['68615915.0', '4000.0', '3658.319894008867', ..., '10.0', '1.0', '2.0'],\n",
       "       ['68616519.0', '21600.0', '19754.927427647883', ..., '3.0', '0.0', '2.0']], dtype='<U32')"
      ]
     },
     "execution_count": 144,
     "metadata": {},
     "output_type": "execute_result"
    }
   ],
   "source": [
    "data_complete = np.vstack([header_full, data_full])\n",
    "data_complete"
   ]
  },
  {
   "cell_type": "code",
   "execution_count": 145,
   "id": "975eaddf",
   "metadata": {},
   "outputs": [
    {
     "data": {
      "text/plain": [
       "(10001, 17)"
      ]
     },
     "execution_count": 145,
     "metadata": {},
     "output_type": "execute_result"
    }
   ],
   "source": [
    "data_complete.shape"
   ]
  },
  {
   "cell_type": "markdown",
   "id": "325d0eb2",
   "metadata": {},
   "source": [
    "#### 5.2 Save the data"
   ]
  },
  {
   "cell_type": "code",
   "execution_count": 146,
   "id": "a0e0d7ab",
   "metadata": {},
   "outputs": [],
   "source": [
    "np.savetxt('Loan Data Preprocessed.csv', \n",
    "           data_complete, \n",
    "           delimiter = ',',\n",
    "           fmt = '%s' )"
   ]
  }
 ],
 "metadata": {
  "kernelspec": {
   "display_name": "Python 3",
   "language": "python",
   "name": "python3"
  },
  "language_info": {
   "codemirror_mode": {
    "name": "ipython",
    "version": 3
   },
   "file_extension": ".py",
   "mimetype": "text/x-python",
   "name": "python",
   "nbconvert_exporter": "python",
   "pygments_lexer": "ipython3",
   "version": "3.8.8"
  }
 },
 "nbformat": 4,
 "nbformat_minor": 5
}
